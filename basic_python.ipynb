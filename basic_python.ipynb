{
 "cells": [
  {
   "cell_type": "markdown",
   "metadata": {
    "id": "QdLW1nPD0m2c"
   },
   "source": [
    "**Hello World**"
   ]
  },
  {
   "cell_type": "code",
   "execution_count": null,
   "metadata": {
    "id": "CwGdeg5inpuN"
   },
   "outputs": [],
   "source": [
    "print('Hello World')"
   ]
  },
  {
   "cell_type": "markdown",
   "metadata": {
    "id": "c2ayKljWnXfU"
   },
   "source": [
    "**Basic Datatypes** "
   ]
  },
  {
   "cell_type": "code",
   "execution_count": null,
   "metadata": {
    "id": "oiFuLYk2obT1"
   },
   "outputs": [],
   "source": [
    "a=5\n",
    "print(a)\n",
    "print(type(a))\n",
    "# 5\n",
    "# <class 'int'>"
   ]
  },
  {
   "cell_type": "code",
   "execution_count": null,
   "metadata": {
    "id": "3mgBGuXl1L3h"
   },
   "outputs": [],
   "source": [
    "f=1.5\n",
    "print(f)\n",
    "print(type(f))\n",
    "# 1.5\n",
    "# <class 'float'>"
   ]
  },
  {
   "cell_type": "code",
   "execution_count": null,
   "metadata": {
    "id": "McMlGrum1RrK"
   },
   "outputs": [],
   "source": [
    "s=\"hello\"\n",
    "print(s)\n",
    "print(type(s))\n",
    "# hello\n",
    "# <class 'str'>"
   ]
  },
  {
   "cell_type": "code",
   "execution_count": null,
   "metadata": {
    "id": "Eh_pe1Cq1asj"
   },
   "outputs": [],
   "source": [
    "b=True\n",
    "print(b)\n",
    "print(type(b))\n",
    "# True\n",
    "# <class 'bool'>"
   ]
  },
  {
   "cell_type": "code",
   "execution_count": null,
   "metadata": {
    "id": "YeqqbRGw1fM4"
   },
   "outputs": [],
   "source": [
    "t=5+3j\n",
    "print(t)\n",
    "print(type(t))\n",
    "# (5+3j)\n",
    "# <class 'complex'>"
   ]
  },
  {
   "cell_type": "markdown",
   "metadata": {
    "id": "U8oiZkBA1o7v"
   },
   "source": [
    "**Arithmetic Operators** "
   ]
  },
  {
   "cell_type": "code",
   "execution_count": null,
   "metadata": {
    "id": "6B7vZAZ2puDz"
   },
   "outputs": [],
   "source": [
    "a = 7\n",
    "b = 3\n",
    "\n",
    "ab_sum = a + b\n",
    "print(ab_sum)\n",
    "# 10\n",
    "\n",
    "ab_dif = a - b\n",
    "print(ab_dif)\n",
    "# 4\n",
    "\n",
    "ab_pro = a * b\n",
    "print(ab_pro)\n",
    "# 21"
   ]
  },
  {
   "cell_type": "code",
   "execution_count": null,
   "metadata": {
    "id": "Eni5i4Tw16eJ"
   },
   "outputs": [],
   "source": [
    "ab_quo = a / b\n",
    "print(ab_quo)\n",
    "# 2.3333333333333335\n",
    "\n",
    "ab_iquo = a // b\n",
    "print(ab_iquo)\n",
    "# 2\n",
    "\n",
    "ab_rem = a % b\n",
    "print(ab_rem)\n",
    "# 1\n",
    "\n",
    "ab_pow = a ** b\n",
    "print(ab_pow)\n",
    "# 343\n"
   ]
  },
  {
   "cell_type": "markdown",
   "metadata": {
    "id": "IWkyiIh12Kfm"
   },
   "source": [
    "**Boolean Operations**"
   ]
  },
  {
   "cell_type": "code",
   "execution_count": null,
   "metadata": {
    "id": "cnsJp7h2wcJl"
   },
   "outputs": [],
   "source": [
    "T=True\n",
    "F=False\n",
    "\n",
    "print(T,F)\n",
    "# True False\n",
    "\n",
    "p = 5 > 3\n",
    "print(p)\n",
    "# True\n",
    "\n",
    "q = -1 < -12.5\n",
    "print(q)\n",
    "# False\n"
   ]
  },
  {
   "cell_type": "code",
   "execution_count": null,
   "metadata": {
    "id": "VxhSejuv2U1T"
   },
   "outputs": [],
   "source": [
    "print(p and q)\n",
    "# False\n",
    "\n",
    "print(p or q)\n",
    "# True\n",
    "\n",
    "print(not q)\n",
    "# True"
   ]
  },
  {
   "cell_type": "markdown",
   "metadata": {
    "id": "EcQBmCaY2fui"
   },
   "source": [
    "**String Operations** "
   ]
  },
  {
   "cell_type": "code",
   "execution_count": null,
   "metadata": {
    "id": "m72PL9tq2vB8"
   },
   "outputs": [],
   "source": [
    "s = 'hello'\n",
    "u = \"hello\"\n",
    "\n",
    "print(s)\n",
    "print(u)\n",
    "# hello\n",
    "# hello"
   ]
  },
  {
   "cell_type": "code",
   "execution_count": null,
   "metadata": {
    "id": "n_ZXNNuC25uy"
   },
   "outputs": [],
   "source": [
    "s1 = \"python\"\n",
    "s2 = 'world'\n",
    "s3 = s1 + ' ' + s2\n",
    "print(s3)\n",
    "# python world\n",
    "\n",
    "s3 = '%s %s %d' %(s1, s2, 1011)\n",
    "print(s3)\n",
    "# python world 1011"
   ]
  },
  {
   "cell_type": "code",
   "execution_count": null,
   "metadata": {
    "id": "r7D-TMHE3Auz"
   },
   "outputs": [],
   "source": [
    "print(len(s3))\n",
    "# 12\n",
    "\n",
    "print(s3.upper())\n",
    "# PYTHON WORLD\n",
    "\n",
    "print(s3.capitalize())\n",
    "# Python world\n",
    "\n",
    "print(s3.lower())\n",
    "# python world\n",
    "\n",
    "print('hello world how are you'.split(' '))\n",
    "# ['hello', 'world', 'how', 'are', 'you']\n",
    "\n",
    "print('book'.replace('o','e'))\n",
    "# beek\n",
    "\n",
    "word = 'jewellery'\n",
    "print(word.find('well'))\n",
    "print(word.find('is'))\n",
    "# 2\n",
    "# -1"
   ]
  },
  {
   "cell_type": "markdown",
   "metadata": {
    "id": "7NOeavil3U54"
   },
   "source": [
    "**Control Structures** "
   ]
  },
  {
   "cell_type": "markdown",
   "metadata": {
    "id": "cxc-exBm3sMn"
   },
   "source": [
    "if - else"
   ]
  },
  {
   "cell_type": "code",
   "execution_count": null,
   "metadata": {
    "id": "LqP7bwUr3q1L"
   },
   "outputs": [],
   "source": [
    "number = 123\n",
    "if number > 99 and number < 1000:\n",
    "    print('3 digit')\n",
    "else:\n",
    "    print('Not 3 digit')\n",
    "\t\n",
    "# Enter number : 123\n",
    "# 3 digit"
   ]
  },
  {
   "cell_type": "markdown",
   "metadata": {
    "id": "TwpgL-pu4CLK"
   },
   "source": [
    "if - elif - else"
   ]
  },
  {
   "cell_type": "code",
   "execution_count": null,
   "metadata": {
    "id": "axOHbakO3qi1"
   },
   "outputs": [],
   "source": [
    "response = input('Are you familiar with python : ')\n",
    "\n",
    "if response.upper() == \"YES\":\n",
    "    print(\"You can skip this course :-|\")\n",
    "elif response.upper() == \"NO\":\n",
    "    print(\"You are at the right place :-)\")\n",
    "else:\n",
    "    print('Sorry wrong input :-(')\n",
    "\t\n",
    "# Are you familiar with python : no\n",
    "# You are at the right place :-)"
   ]
  },
  {
   "cell_type": "markdown",
   "metadata": {
    "id": "C3vYs2X_4NGa"
   },
   "source": [
    "Note \n",
    "\n",
    "*   Take care of indentation !\n",
    "*   Don’t forget to put  ‘ : ’ at the end\n",
    "*   Remember its elif not else if\n",
    "\n"
   ]
  },
  {
   "cell_type": "markdown",
   "metadata": {
    "id": "KKHAo_fk4lyu"
   },
   "source": [
    "**Loops** "
   ]
  },
  {
   "cell_type": "markdown",
   "metadata": {
    "id": "VDSNDP1O43sB"
   },
   "source": [
    "range() -  function"
   ]
  },
  {
   "cell_type": "code",
   "execution_count": null,
   "metadata": {
    "id": "53RAMLbf3Ohr"
   },
   "outputs": [],
   "source": [
    "print(list(range(10)))\n",
    "# [0, 1, 2, 3, 4, 5, 6, 7, 8, 9]\n",
    "\n",
    "print(list(range(1,10)))\n",
    "# [1, 2, 3, 4, 5, 6, 7, 8, 9]\n",
    "\n",
    "print(list(range(1,10,2)))\n",
    "# [1, 3, 5, 7, 9]"
   ]
  },
  {
   "cell_type": "markdown",
   "metadata": {
    "id": "YMx2gH4l5Rqo"
   },
   "source": [
    "for - loop"
   ]
  },
  {
   "cell_type": "code",
   "execution_count": null,
   "metadata": {
    "id": "PvyaY5kN49hd"
   },
   "outputs": [],
   "source": [
    "for x in range(10):\n",
    "    print(x,end=' ')\n",
    "\t\n",
    "# 0 1 2 3 4 5 6 7 8 9 "
   ]
  },
  {
   "cell_type": "code",
   "execution_count": null,
   "metadata": {
    "id": "MCIu5KCW49lC"
   },
   "outputs": [],
   "source": [
    "limit = int(input('Enter a limit : '))\n",
    "sum = 0\n",
    "\n",
    "for i in range(1,limit + 1):\n",
    "\tif i%2 != 0:\n",
    "\t\tsum += i\n",
    "\n",
    "print(\"Odd sum = \"+str(sum))\n",
    "\n",
    "# Enter a limit : 15\n",
    "# Odd sum = 64"
   ]
  },
  {
   "cell_type": "code",
   "execution_count": null,
   "metadata": {
    "id": "N2JZWKUSwesX"
   },
   "outputs": [],
   "source": [
    "number = int(input('Enter number : '))\n",
    "n = number\n",
    "s = 0\n",
    "while number > 0 :\n",
    "    s += (number%10)**3\n",
    "    number = number//10\n",
    "if n == s:\n",
    "    print(\"Armstrong\")\n",
    "else:\n",
    "    print(\"Not Armstrong\")"
   ]
  },
  {
   "cell_type": "markdown",
   "metadata": {
    "id": "xQyYXPXz5ViV"
   },
   "source": [
    "while - loop"
   ]
  },
  {
   "cell_type": "code",
   "execution_count": null,
   "metadata": {
    "id": "u6l_XV5L2oe3"
   },
   "outputs": [],
   "source": [
    "number = int(input('Enter number : '))\n",
    "s = 0\n",
    "while number > 0 :\n",
    "    s += number%10\n",
    "    number = number//10\n",
    "print(s)\n",
    "\n",
    "# Enter number : 1254\n",
    "# 12"
   ]
  },
  {
   "cell_type": "markdown",
   "metadata": {
    "id": "1O6nZO675pVp"
   },
   "source": [
    "Nested- loop"
   ]
  },
  {
   "cell_type": "code",
   "execution_count": null,
   "metadata": {
    "id": "UIez1zOCQ-ek"
   },
   "outputs": [],
   "source": [
    "limit = int(input('Enter number : '))\n",
    "for num in range(2,limit+1):\n",
    "    is_divisible = False\n",
    "    k=2\n",
    "    while k <= num//2 :\n",
    "        if num % k == 0:\n",
    "            is_divisible=True\n",
    "            break;\n",
    "        k += 1\n",
    "    if not is_divisible:\n",
    "        print(num,end=' ')"
   ]
  },
  {
   "cell_type": "markdown",
   "metadata": {
    "id": "cpsfF1ji5w7x"
   },
   "source": [
    "**Containers** "
   ]
  },
  {
   "cell_type": "markdown",
   "metadata": {
    "id": "JsWzeP8K53wF"
   },
   "source": [
    "**List** "
   ]
  },
  {
   "cell_type": "code",
   "execution_count": null,
   "metadata": {
    "id": "0d-T1uLe5llO"
   },
   "outputs": [],
   "source": [
    "mylist = ['a','b', 1, 1.2, True]\n",
    "print(mylist)\n",
    "# ['a', 'b', 1, 1.2, True]\n",
    "\n",
    "mylist.append('new')\n",
    "print(mylist)\n",
    "# ['a', 'b', 1, 1.2, True, 'new']\n",
    "\n",
    "print(mylist.pop())\n",
    "# new\n",
    "\n",
    "mylist.insert(2,'new')\n",
    "print(mylist)\n",
    "# ['a', 'b', 'new', 1, 1.2, True]\n",
    "\n",
    "mylist.remove('new')\n",
    "print(mylist)\n",
    "# ['a', 'b', 1, 1.2, True]"
   ]
  },
  {
   "cell_type": "code",
   "execution_count": null,
   "metadata": {
    "id": "Iqlqa0jZ6OCM"
   },
   "outputs": [],
   "source": [
    "b = [1,2,3]\n",
    "mylist.append(b)\n",
    "print(mylist)\n",
    "# ['a', 'b', 1, 1.2, True, [1, 2, 3]]\n",
    "\n",
    "mylist.remove(b)\n",
    "print(mylist)\n",
    "# ['a', 'b', 1, 1.2, True]\n",
    "\n",
    "mylist.extend(b)\n",
    "print(mylist)\n",
    "# ['a', 'b', 1, 1.2, True, 1, 2, 3]\n",
    "\n",
    "a = [2,3,1,4,5] \n",
    "a.sort()\n",
    "print(a)\n",
    "# [1, 2, 3, 4, 5]\n",
    "\n",
    "print(list('hello'))\n",
    "# ['h', 'e', 'l', 'l', 'o']\n",
    "\n"
   ]
  },
  {
   "cell_type": "markdown",
   "metadata": {
    "id": "o33oYB7k6aOk"
   },
   "source": [
    "Indexing and Slicing"
   ]
  },
  {
   "cell_type": "code",
   "execution_count": null,
   "metadata": {
    "id": "14wKj8eARM-N"
   },
   "outputs": [],
   "source": [
    "numbers = list(range(1,11))\n",
    "print(numbers[1],numbers[-1])\n",
    "# 2 10\n",
    "\n",
    "sliced = numbers[5:11]\n",
    "print(sliced)\n",
    "# [6, 7, 8, 9, 10]\n",
    "\n",
    "sliced = numbers[5:]\n",
    "print(sliced)\n",
    "# [6, 7, 8, 9, 10]\n",
    "\n",
    "sliced = numbers[:7]\n",
    "print(sliced)\n",
    "# [1, 2, 3, 4, 5, 6, 7]\n",
    "\n",
    "sliced = numbers[-2:]\n",
    "print(sliced)\n",
    "# [9, 10]\n"
   ]
  },
  {
   "cell_type": "markdown",
   "metadata": {
    "id": "GzwdQ0r66v9c"
   },
   "source": [
    "List - Comprehension"
   ]
  },
  {
   "cell_type": "code",
   "execution_count": null,
   "metadata": {
    "id": "1tSyMmDaRxlh"
   },
   "outputs": [],
   "source": [
    "numbers = list(range(1, 8))\n",
    "print(numbers)\n",
    "# [1, 2, 3, 4, 5, 6, 7]\n",
    "\n",
    "square = []\n",
    "for i in numbers:\n",
    "    square.append(pow(i,2))\n",
    "print(square)\n",
    "# [1, 4, 9, 16, 25, 36, 49]"
   ]
  },
  {
   "cell_type": "code",
   "execution_count": null,
   "metadata": {
    "id": "nHwnVJ_e66Wj"
   },
   "outputs": [],
   "source": [
    "##List Comprehension\n",
    "square = [x**2 for x in numbers] \n",
    "print(square)\n",
    "# [1, 4, 9, 16, 25, 36, 49]"
   ]
  },
  {
   "cell_type": "markdown",
   "metadata": {
    "id": "EvKYbVJu7Ism"
   },
   "source": [
    "**Dictionary** "
   ]
  },
  {
   "cell_type": "code",
   "execution_count": null,
   "metadata": {
    "id": "4_0swLC46_mH"
   },
   "outputs": [],
   "source": [
    "person = {'name' : 'Manu', 'age': 28}\n",
    "print(person['name'])\n",
    "# Manu\n",
    "\n",
    "print('name' in person)\n",
    "# True\n",
    "\n",
    "print('sex' in person)\n",
    "# False"
   ]
  },
  {
   "cell_type": "code",
   "execution_count": null,
   "metadata": {
    "id": "xPFIWEu97bME"
   },
   "outputs": [],
   "source": [
    "person['sex'] = 'male'\n",
    "print(person)\n",
    "# {'name': 'Manu', 'age': 28, 'sex': 'male'}"
   ]
  },
  {
   "cell_type": "code",
   "execution_count": null,
   "metadata": {
    "id": "yeC8fRj77eGd"
   },
   "outputs": [],
   "source": [
    "for item in person:\n",
    "    print(item,person[item])\n",
    "# name Manu\n",
    "# age 28\n",
    "# sex male"
   ]
  },
  {
   "cell_type": "code",
   "execution_count": null,
   "metadata": {
    "id": "1rK09Zu-7mw2"
   },
   "outputs": [],
   "source": [
    "for (key,value) in person.items():\n",
    "    print(key.capitalize(),'\\t:\\t', value)\n",
    "# Name \t:\t Manu\n",
    "# Age \t:\t 28\n",
    "# Sex \t:\t male\n",
    "    \n",
    "print(person.keys())\n",
    "# dict_keys(['name', 'age', 'sex'])"
   ]
  },
  {
   "cell_type": "markdown",
   "metadata": {
    "id": "q3wcMCo-7xAL"
   },
   "source": [
    "**Tuple** "
   ]
  },
  {
   "cell_type": "code",
   "execution_count": null,
   "metadata": {
    "id": "Xhz_U8ES7vvG"
   },
   "outputs": [],
   "source": [
    "t1 = (1,2,3)\n",
    "t2 = 4,5,6\n",
    "print(t1,t2)\n",
    "# (1, 2, 3) (4, 5, 6)\n",
    "\n",
    "t3 = t1 +t2\n",
    "print(t3)\n",
    "# (1, 2, 3, 4, 5, 6)\n",
    "\n",
    "lt = tuple(['a','b','c','d'])\n",
    "print(lt)\n",
    "# ('a', 'b', 'c', 'd')\n"
   ]
  },
  {
   "cell_type": "code",
   "execution_count": null,
   "metadata": {
    "id": "jR35I7-998N8"
   },
   "outputs": [],
   "source": [
    "\n",
    "lt[2] = 'x'\n",
    "\n",
    "# ----> 1 lt[2] = 'x'\n",
    "# TypeError: 'tuple' object does not support item assignment\n",
    "\n"
   ]
  },
  {
   "cell_type": "markdown",
   "metadata": {
    "id": "gyGwcM058IqV"
   },
   "source": [
    "**Set** "
   ]
  },
  {
   "cell_type": "code",
   "execution_count": null,
   "metadata": {
    "id": "f-4S_oYi8O07"
   },
   "outputs": [],
   "source": [
    "s = {1,2,3}\n",
    "print(s,type(s))\n",
    "# {1, 2, 3} <class 'set'>\n",
    "\n",
    "fset = {\"apple\", \"banana\", \"cherry\"}\n",
    "fset.remove(\"banana\")\n",
    "print(fset)\n",
    "# {'apple', 'cherry'}\n",
    "\n",
    "fset = {\"apple\", \"banana\", \"cherry\"}\n",
    "fset.discard(\"banana\")\n",
    "print(fset)\n",
    "# {'apple', 'cherry’}\n",
    "\n",
    "fset = {\"apple\", \"banana\", \"cherry\"}\n",
    "fset.clear()\n",
    "print(fset)\n",
    "# set()"
   ]
  },
  {
   "cell_type": "code",
   "execution_count": null,
   "metadata": {
    "id": "920dJcts8UPK"
   },
   "outputs": [],
   "source": [
    "set1 = {\"a\", \"b\" , \"c\"}\n",
    "set2 = {1, 2, 3}\n",
    "set3 = set1.union(set2)\n",
    "print(set3)\n",
    "# {1, 2, 3, 'b', 'c', 'a'}\n",
    "\n",
    "x = {\"apple\", \"banana\", \"cherry\"}\n",
    "y = {\"google\", \"microsoft\", \"apple\"}\n",
    "\n",
    "z = x.intersection(y)\n",
    "print(z)\n",
    "# {'apple’}\n",
    "\n",
    "lst = [1,2,3,4,5,5,5,7,6]\n",
    "myset = list(set(lst))\n",
    "print(myset)\n",
    "# [1, 2, 3, 4, 5, 6, 7]\n",
    "\n"
   ]
  },
  {
   "cell_type": "markdown",
   "metadata": {
    "id": "67MZ8A3L8fDF"
   },
   "source": [
    "**Functions** "
   ]
  },
  {
   "cell_type": "code",
   "execution_count": null,
   "metadata": {
    "id": "DmbsmPs0dfp0"
   },
   "outputs": [],
   "source": [
    "def twice(number):\n",
    "    return 2*number\n",
    "t = twice(5)\n",
    "print(t)\n",
    "# 10"
   ]
  },
  {
   "cell_type": "code",
   "execution_count": null,
   "metadata": {
    "id": "0-eIRa9og4To"
   },
   "outputs": [],
   "source": [
    "\n",
    "def isPrime(number):\n",
    "    for factor in range(2, (number//2)+1):\n",
    "        if number%factor == 0:\n",
    "            return False\n",
    "    return True\n",
    "\n",
    "number = int(input('Enter the number '))\n",
    "print(isPrime(number))\n",
    "# Enter the number 10\n",
    "# False"
   ]
  },
  {
   "cell_type": "code",
   "execution_count": null,
   "metadata": {
    "id": "hWoc1-R08tvj"
   },
   "outputs": [],
   "source": [
    "def printPrimes(llimit, ulimit):\n",
    "    for num in range(llimit, ulimit + 1):    \n",
    "        if isPrime(num) == True:\n",
    "            print(num, end = ' ')\n",
    "\n",
    "printPrimes(5,50)\n",
    "# 5 7 11 13 17 19 23 29 31 37 41 43 47"
   ]
  },
  {
   "cell_type": "code",
   "execution_count": null,
   "metadata": {
    "id": "T5j30VCw85_4"
   },
   "outputs": [],
   "source": [
    "def swap(x,y):\n",
    "    t = x\n",
    "    x = y\n",
    "    y = t\n",
    "    return x,y\n",
    "\n",
    "a=5\n",
    "b=7\n",
    "a,b = swap(a,b)\n",
    "print(a,b)\n",
    "#7 5"
   ]
  },
  {
   "cell_type": "code",
   "execution_count": null,
   "metadata": {
    "id": "yAa0rHFJ9Dd4"
   },
   "outputs": [],
   "source": [
    "def calculatePayable(p, y = 1, r = 5):\n",
    "    return p*(1 + r* y/100)\n",
    "\n",
    "print(calculatePayable(1000))\n",
    "# 1050.0\n",
    "print(calculatePayable(1000, y =3))\n",
    "# 1150.0\n",
    "print(calculatePayable(1000, r = 10, y=3))\n",
    "# 1300.0\n",
    "print(calculatePayable(5000, r = 3))\n",
    "# 5150.0\n"
   ]
  },
  {
   "cell_type": "markdown",
   "metadata": {
    "id": "kDkkGt9n9Knf"
   },
   "source": [
    "**Object Oriented Programming** "
   ]
  },
  {
   "cell_type": "markdown",
   "metadata": {
    "id": "lnCzBNSd9b9H"
   },
   "source": [
    "Class and Objects"
   ]
  },
  {
   "cell_type": "code",
   "execution_count": null,
   "metadata": {
    "id": "CsuoFWwE9VBR"
   },
   "outputs": [],
   "source": [
    "\n",
    "class Adder:\n",
    "\n",
    "    #constructor\n",
    "    def __init__(self): \n",
    "        self.__x = 0\n",
    "        self.__y = 0\n",
    "    #setter\n",
    "    def setValues(self, x, y): \n",
    "        self.__x = x\n",
    "        self.__y = y\n",
    "\t\t\n",
    "    #self variable name can be anything\n",
    "    def calculate(self1):\n",
    "        self1.__sum = self1.__x + self1.__y \n",
    "\t\t\n",
    "    #getter\n",
    "    def getSum(self): \n",
    "        return self.__sum"
   ]
  },
  {
   "cell_type": "code",
   "execution_count": null,
   "metadata": {
    "id": "dp28xvi99mF1"
   },
   "outputs": [],
   "source": [
    "adder =  Adder() \n",
    "adder.setValues(5,4)\n",
    "adder.calculate()\n",
    "print(adder.getSum())\n",
    "#9"
   ]
  },
  {
   "cell_type": "markdown",
   "metadata": {},
   "source": [
    "Write a program to create a class Box with data members length, breadth, height, area, and volume. Provider constructor that enables initialization with one parameter (for cube), two parameters (for square prism) three parameters (rectangular prism). Also, provide functions to calculate area and volume.\n",
    "\n",
    "Create a list of N boxes with random measurements and print the details of the box with maximum volume: area ratio"
   ]
  },
  {
   "cell_type": "code",
   "execution_count": 2,
   "metadata": {},
   "outputs": [
    {
     "name": "stdout",
     "output_type": "stream",
     "text": [
      "Box with Maximum Volume:Area ratio\n",
      "Area =  95494\n",
      "Volume =  85562624\n",
      "Ratio =  896\n"
     ]
    }
   ],
   "source": [
    "import random\n",
    "\n",
    "class Box:\n",
    "    def __init__(self,*args):\n",
    "    #if all arguements are same,cube prism is initialised.\n",
    "        if (args[0]==args[1]==args[2]):\n",
    "            self.__length = args[0]\n",
    "            self.__breadth = args[0]\n",
    "            self.__height = args[0]\n",
    "        #if any two arguements are same, the square prism is initialised\n",
    "        elif (args[0]==args[1] or args[1]==args[2] or args[0]==args[2]):\n",
    "            if (args[0]==args[1]):\n",
    "                self.__length = args[0]\n",
    "                self.__breadth = args[0]\n",
    "                self.__height = args[1]\n",
    "            elif (args[1]==args[2]):\n",
    "                self.__length = args[1]\n",
    "                self.__breadth = args[1]\n",
    "                self.__height = args[0]\n",
    "            elif (args[0]==args[2]):\n",
    "                self.__length = args[0]\n",
    "                self.__breadth = args[0]\n",
    "                self.__height = args[1]       \n",
    "            #if three arguements are different , rectangular prism is initialised.\n",
    "        else:\n",
    "            self.__length = args[0]\n",
    "            self.__breadth = args[1]\n",
    "            self.__height = args[2]\n",
    "\n",
    "    #funtion to calculate area\n",
    "    def calc_area(self):\n",
    "    self.__area = self.__length*self.__breadth\n",
    "    return self.__area\n",
    "    #funtion to calculate volume\n",
    "    def calc_volume(self):\n",
    "    self.__volume = self.__length*self.__breadth*self.__height\n",
    "    return self.__volume\n",
    "    #funtion to print area\n",
    "    def display_area(self):\n",
    "    print(\"The area is \",self.__area)\n",
    "    #funtion to print volume\n",
    "    def display_volume(self):\n",
    "    print(\"The volume is \",self.__volume,\"\\n\")\n",
    "\n",
    "\n",
    "N = 10\n",
    "box = [Box(random.randint(1,1000),random.randint(1,1000),random.randint(1,1000)) for i in range(N)]\n",
    "area = [i.calc_area() for i in box]\n",
    "volume = [i.calc_volume() for i in box]\n",
    "ratio = [x//y for x,y in zip(volume,area)]\n",
    "index = ratio.index(max(ratio))\n",
    "print(\"Box with Maximum Volume:Area ratio\")\n",
    "print(\"Area = \",area[index])\n",
    "print(\"Volume = \",volume[index])\n",
    "print(\"Ratio = \",max(ratio))"
   ]
  },
  {
   "cell_type": "markdown",
   "metadata": {},
   "source": [
    "Write a program to create a parent class, 3DShapes, with methods printVolume() and printArea(), which prints the Volume and Area, respectively. Create classes Cylinder and Sphere by inheriting 3DShapes class. Using these child classes, calculate and print the volume and area of a cylinder and sphere."
   ]
  },
  {
   "cell_type": "code",
   "execution_count": 4,
   "metadata": {},
   "outputs": [
    {
     "name": "stdout",
     "output_type": "stream",
     "text": [
      "Enter the radius of the cylinder 5\n",
      "Enter the height of the cylinder 30\n",
      "The Area is  1099.0\n",
      "The Volume is  2355.0\n",
      "\n",
      "Enter the radius of the sphere 6\n",
      "The Area is  452.16\n",
      "The Volume is  904.32\n"
     ]
    }
   ],
   "source": [
    "#base - class \n",
    "class threeD_Shapes:\n",
    "    def printVolume(self):\n",
    "        print(\"The Volume is \",round(self._volume,3))\n",
    "    def printArea(self):\n",
    "        print(\"The Area is \",round(self._area,3))\n",
    "\n",
    "#derived class - for calculation of area and volume of cylinder\n",
    "class cylinder(threeD_Shapes):\n",
    "    #initialisation using constructor\n",
    "    def __init__(self,r,h):\n",
    "        self.__radius = r\n",
    "        self.__height = h\n",
    "    def calc_area(self):\n",
    "        self._area = 2*3.14*self.__radius*(self.__radius+self.__height)\n",
    "    def calc_volume(self):\n",
    "        self._volume = round((3.14*self.__radius*self.__radius*self.__height),2)\n",
    "\n",
    "#derived class - for calculation of area and volume of sphere\n",
    "class sphere(threeD_Shapes):\n",
    "    #initialisation using constructor\n",
    "    def __init__(self,r):\n",
    "        self.__radius = r\n",
    "    def calc_area(self):\n",
    "        self._area = 4*3.14*self.__radius*self.__radius\n",
    "    def calc_volume(self):\n",
    "        self._volume = round(((4/3)*3.14*(self.__radius**3)),2)\n",
    "\n",
    "#object of class cylinder for calculating the area and volume of cylinder\n",
    "cyl_obj = cylinder(int(input(\"Enter the radius of the cylinder \")),int(input(\"Enter the height of the cylinder \")))\n",
    "cyl_obj.calc_area()\n",
    "cyl_obj.printArea()\n",
    "cyl_obj.calc_volume()\n",
    "cyl_obj.printVolume()\n",
    "\n",
    "#object of class sphere for calculating the area and volume of sphere\n",
    "sph_obj = sphere(int(input(\"\\nEnter the radius of the sphere \")))\n",
    "sph_obj.calc_area()\n",
    "sph_obj.calc_volume()\n",
    "sph_obj.printArea()\n",
    "sph_obj.printVolume()"
   ]
  },
  {
   "cell_type": "markdown",
   "metadata": {},
   "source": [
    "# File Handling"
   ]
  },
  {
   "cell_type": "code",
   "execution_count": 8,
   "metadata": {},
   "outputs": [],
   "source": [
    "# Open a file\n",
    "file = open('geek.txt','w')\n",
    "file.write(\"This is the write command\\n\")\n",
    "file.write(\"It allows us to write in a particular file\\n\")\n",
    "file.close()\n",
    "file = open('geek.txt', 'a')\n",
    "file.write(\"This will add this line\\n\")\n",
    "file.close()"
   ]
  },
  {
   "cell_type": "code",
   "execution_count": 9,
   "metadata": {},
   "outputs": [
    {
     "name": "stdout",
     "output_type": "stream",
     "text": [
      "This is the write command\n",
      "It allows us to write in a particular file\n",
      "This will add this line\n",
      "\n"
     ]
    }
   ],
   "source": [
    "file = open(\"geek.txt\", \"r\")\n",
    "print (file.read())"
   ]
  },
  {
   "cell_type": "code",
   "execution_count": 11,
   "metadata": {},
   "outputs": [
    {
     "name": "stdout",
     "output_type": "stream",
     "text": [
      "This is the write command\n",
      "It allows us to write in a particular file\n",
      "This will add this line\n",
      "\n"
     ]
    }
   ],
   "source": [
    "with open(\"geek.txt\") as file: \n",
    "    data = file.read()\n",
    "    print(data)"
   ]
  },
  {
   "cell_type": "code",
   "execution_count": 12,
   "metadata": {},
   "outputs": [
    {
     "name": "stdout",
     "output_type": "stream",
     "text": [
      "['This', 'is', 'the', 'write', 'command']\n",
      "['It', 'allows', 'us', 'to', 'write', 'in', 'a', 'particular', 'file']\n",
      "['This', 'will', 'add', 'this', 'line']\n"
     ]
    }
   ],
   "source": [
    "# Python code to illustrate split() function\n",
    "with open(\"geek.txt\", \"r\") as file:\n",
    "    data = file.readlines()\n",
    "    for line in data:\n",
    "        word = line.split()\n",
    "        print (word)"
   ]
  },
  {
   "cell_type": "markdown",
   "metadata": {},
   "source": [
    "# TIC TAC TOE"
   ]
  },
  {
   "cell_type": "code",
   "execution_count": 6,
   "metadata": {},
   "outputs": [
    {
     "name": "stdout",
     "output_type": "stream",
     "text": [
      "pygame 2.1.2 (SDL 2.0.18, Python 3.8.5)\n",
      "Hello from the pygame community. https://www.pygame.org/contribute.html\n"
     ]
    },
    {
     "ename": "SystemExit",
     "evalue": "",
     "output_type": "error",
     "traceback": [
      "An exception has occurred, use %tb to see the full traceback.\n",
      "\u001b[1;31mSystemExit\u001b[0m\n"
     ]
    },
    {
     "name": "stderr",
     "output_type": "stream",
     "text": [
      "C:\\Users\\shail\\anaconda3\\lib\\site-packages\\IPython\\core\\interactiveshell.py:3426: UserWarning: To exit: use 'exit', 'quit', or Ctrl-D.\n",
      "  warn(\"To exit: use 'exit', 'quit', or Ctrl-D.\", stacklevel=1)\n"
     ]
    }
   ],
   "source": [
    "import pygame,sys\n",
    "import numpy as np\n",
    "from pygame.locals import *\n",
    "\n",
    "pygame.init()\n",
    "\n",
    "font = pygame.font.SysFont('Constantia', 45)\n",
    "\n",
    "#define colours\n",
    "red = (255, 0, 0)\n",
    "black = (0, 0, 0)\n",
    "white = (255, 255, 255)\n",
    "\n",
    "class button():\n",
    "\t#colours for button and text\n",
    "\tbutton_col = (255, 0, 0)\n",
    "\ttext_col = black\n",
    "\twidth = 180\n",
    "\theight = 70\n",
    "\n",
    "\tdef __init__(self, x, y, text):\n",
    "\t\tself.x = x\n",
    "\t\tself.y = y\n",
    "\t\tself.text = text\n",
    "\n",
    "\tdef draw_button(self):\n",
    "\t\tbutton_rect = Rect(self.x, self.y, self.width, self.height)\n",
    "\t\tpygame.draw.rect(screen, self.button_col, button_rect)\t\t\n",
    "\t\t#add shading to button\n",
    "\t\tpygame.draw.line(screen, white, (self.x, self.y), (self.x + self.width, self.y), 2)\n",
    "\t\tpygame.draw.line(screen, white, (self.x, self.y), (self.x, self.y + self.height), 2)\n",
    "\t\tpygame.draw.line(screen, black, (self.x, self.y + self.height), (self.x + self.width, self.y + self.height), 2)\n",
    "\t\tpygame.draw.line(screen, black, (self.x + self.width, self.y), (self.x + self.width, self.y + self.height), 2)\n",
    "\t\t#add text to button\n",
    "\t\ttext_img = font.render(self.text, True, self.text_col)\n",
    "\t\ttext_len = text_img.get_width()\n",
    "\t\tscreen.blit(text_img, (self.x + int(self.width / 2) - int(text_len / 2), self.y + 25))\n",
    "\n",
    "WIDTH = 600\n",
    "boardHeight = 600\n",
    "HEIGHT = 700\n",
    "BLACK = (0, 0, 0)\n",
    "RED = (0, 0, 0)\n",
    "WHITE = (255,255,255)\n",
    "BG_COLOR = (42, 5, 141)\n",
    "LINE_WIDTH = 10\n",
    "BOARD_ROWS = 3\n",
    "BOARD_COLUMNS = 3\n",
    "CIRCLE_RADIUS = 60\n",
    "CIRCLE_WIDTH = 10\n",
    "SPACE = 45\n",
    "\n",
    "screen = pygame.display.set_mode((WIDTH,HEIGHT))\n",
    "pygame.display.set_caption('Tic Tac Toe')\n",
    "screen.fill(BG_COLOR)\n",
    "\n",
    "#board\n",
    "board = np.zeros((BOARD_ROWS,BOARD_COLUMNS))\n",
    "\n",
    "def draw_lines():\n",
    "  #horizontal - lines\n",
    "  pygame.draw.line(screen,BLACK,(0,200),(600,200),LINE_WIDTH)\n",
    "  pygame.draw.line(screen,BLACK,(0,400),(600,400),LINE_WIDTH)\n",
    "  #vertical - lines\n",
    "  pygame.draw.line(screen,BLACK,(200,0),(200,600),LINE_WIDTH)\n",
    "  pygame.draw.line(screen,BLACK,(400,0),(400,600),LINE_WIDTH)\n",
    "\n",
    "def mark_square(rows,cols,player):\n",
    "  board[rows][cols] = player\n",
    "\n",
    "def available_square(rows,cols):\n",
    "  return board[rows][cols] == 0\n",
    "\n",
    "def is_board_full():\n",
    "  for row in range(BOARD_ROWS):\n",
    "    for col in range(BOARD_COLUMNS):\n",
    "      if(board[row][col]==0):\n",
    "        return False\n",
    "      else:\n",
    "        return True\n",
    "\n",
    "def check_win(player):\n",
    "  #vertical-win-check\n",
    "  for col in range(BOARD_COLUMNS):\n",
    "    if board[0][col] ==player and board[1][col] ==player and board[2][col] ==player:\n",
    "      draw_vertical_winning_line(col,player)\n",
    "      return True\n",
    "  #horizontal-win-check\n",
    "  for row in range(BOARD_ROWS):\n",
    "    if board[row][0] ==player and board[row][1] ==player and board[row][2] ==player:\n",
    "      draw_horizontal_winning_line(row,player)\n",
    "      return True\n",
    "  #ascending-diagonal-win-check\n",
    "  if board[2][0]==player and board[1][1]==player and board[0][2]==player:\n",
    "    draw_ascending_diagonal_winning_line(player)\n",
    "    return True\n",
    "  #descending-diagonal-win-check\n",
    "  if board[0][0]==player and board[1][1]==player and board[2][2]==player:\n",
    "    draw_descending_diagonal_winning_line(player)\n",
    "    return True\n",
    "  return False\n",
    "\n",
    "def draw_vertical_winning_line(col,player):\n",
    "  pygame.draw.line(screen,RED,(col*200+100,0),(col*200+100,600),20)\n",
    "\n",
    "def draw_horizontal_winning_line(row,player):\n",
    "  pygame.draw.line(screen,RED,(0,row*200+100),(600,row*200+100),20)\n",
    "\n",
    "def draw_ascending_diagonal_winning_line(player):\n",
    "  pygame.draw.line(screen,RED,(15,boardHeight-15),(WIDTH-15,15),20)\n",
    "\n",
    "def draw_descending_diagonal_winning_line(player):\n",
    "  pygame.draw.line(screen,RED,(15,15),(WIDTH-15,boardHeight-15),20)\n",
    "\n",
    "def restart():\n",
    "  screen.fill(BG_COLOR)\n",
    "  draw_lines()\n",
    "  game_over = False\n",
    "  player = 1\n",
    "  for row in range(BOARD_ROWS):\n",
    "    for col in range(BOARD_COLUMNS):\n",
    "      board[row][col]=0\n",
    "\n",
    "def draw_figures():\n",
    "  for row in range(BOARD_ROWS):\n",
    "    for col in range(BOARD_COLUMNS):\n",
    "      if board[row][col]==1:\n",
    "        pygame.draw.circle(screen,BLACK, (int ((col*200)+100),int((row*200)+100)),CIRCLE_RADIUS,CIRCLE_WIDTH)\n",
    "      elif board[row][col]==2:\n",
    "        pygame.draw.line(screen,WHITE,(col*200+SPACE,(row*200+200)-SPACE),((col*200+200)-SPACE,(row*200)+SPACE),15)\n",
    "        pygame.draw.line(screen,WHITE,(col*200+SPACE,(row*200)+SPACE),((col*200+200)-SPACE,(row*200+200)-SPACE),15)\n",
    "\n",
    "draw_lines()\n",
    "\n",
    "game_over = False\n",
    "player = 1\n",
    "\n",
    "#reset button and won display text.\n",
    "resetButton = button(100,610,'Reset')\n",
    "resetButton.draw_button()\n",
    "\n",
    "text1 = font.render('O WON', True, white,BLACK)\n",
    "text2 = font.render('X WON', True, white,BLACK)\n",
    "textRect1 = text1.get_rect()\n",
    "textRect1.center = (400,650)\n",
    "textRect2 = text2.get_rect()\n",
    "textRect2.center = (400,650)\n",
    "\n",
    "#main loop\n",
    "while True:\n",
    "   for event in pygame.event.get():\n",
    "     if event.type == pygame.QUIT:\n",
    "       sys.exit()\n",
    "     if event.type == pygame.MOUSEBUTTONDOWN and not game_over:\n",
    "       mouseX  = event.pos[0] #x\n",
    "       mouseY = event.pos[1] #y\n",
    "       clicked_row = int(mouseY//200)\n",
    "       clicked_col = int(mouseX//200)\n",
    "       if(clicked_row<=2):\n",
    "        if available_square(clicked_row,clicked_col):\n",
    "          if player==1:\n",
    "            mark_square(clicked_row,clicked_col,1)\n",
    "            if check_win(player):\n",
    "              game_over = True\n",
    "              screen.blit(text1, textRect1)\n",
    "            player = 2\n",
    "          elif player == 2:\n",
    "            mark_square(clicked_row,clicked_col,2)\n",
    "            if check_win(player):\n",
    "              game_over = True\n",
    "              screen.blit(text2, textRect2)\n",
    "            player = 1\n",
    "          draw_figures()\n",
    "       else: \n",
    "         restart()\n",
    "         player = 1\n",
    "         game_over = False\n",
    "         resetButton.draw_button()\n",
    "     if event.type == pygame.MOUSEBUTTONDOWN:\n",
    "       mouseY = event.pos[1]\n",
    "       if(mouseY>600):\n",
    "         restart()\n",
    "         player=1\n",
    "         game_over = False\n",
    "         resetButton.draw_button()\n",
    "   pygame.display.update()"
   ]
  },
  {
   "cell_type": "markdown",
   "metadata": {
    "id": "ihYA2yGn-aeM"
   },
   "source": [
    "## **THANK YOU** "
   ]
  },
  {
   "cell_type": "markdown",
   "metadata": {
    "id": "Z308GVsi-ahc"
   },
   "source": [
    "***A lot more to learn, Keep Learning*** "
   ]
  }
 ],
 "metadata": {
  "colab": {
   "name": "FirstDay.ipynb",
   "provenance": []
  },
  "kernelspec": {
   "display_name": "Python 3",
   "language": "python",
   "name": "python3"
  },
  "language_info": {
   "codemirror_mode": {
    "name": "ipython",
    "version": 3
   },
   "file_extension": ".py",
   "mimetype": "text/x-python",
   "name": "python",
   "nbconvert_exporter": "python",
   "pygments_lexer": "ipython3",
   "version": "3.8.5"
  }
 },
 "nbformat": 4,
 "nbformat_minor": 1
}
